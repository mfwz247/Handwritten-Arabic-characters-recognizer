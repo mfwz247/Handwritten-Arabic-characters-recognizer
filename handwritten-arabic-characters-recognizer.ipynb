{
 "cells": [
  {
   "cell_type": "code",
   "execution_count": 1,
   "id": "9454b433",
   "metadata": {
    "_cell_guid": "b1076dfc-b9ad-4769-8c92-a6c4dae69d19",
    "_uuid": "8f2839f25d086af736a60e9eeb907d3b93b6e0e5",
    "execution": {
     "iopub.execute_input": "2022-03-18T20:54:25.697703Z",
     "iopub.status.busy": "2022-03-18T20:54:25.696919Z",
     "iopub.status.idle": "2022-03-18T20:54:31.053461Z",
     "shell.execute_reply": "2022-03-18T20:54:31.053993Z",
     "shell.execute_reply.started": "2022-03-18T20:13:39.191641Z"
    },
    "papermill": {
     "duration": 5.387253,
     "end_time": "2022-03-18T20:54:31.054250",
     "exception": false,
     "start_time": "2022-03-18T20:54:25.666997",
     "status": "completed"
    },
    "tags": []
   },
   "outputs": [],
   "source": [
    "import tensorflow as tf\n",
    "import numpy as np\n",
    "import pandas as pd\n",
    "import matplotlib.pyplot as plt\n",
    "import seaborn as sns\n",
    "from keras.models import Sequential\n",
    "from keras.layers import Dense, Dropout, Flatten, Conv2D, MaxPool2D\n",
    "from random import randint"
   ]
  },
  {
   "cell_type": "markdown",
   "id": "49e7c765",
   "metadata": {
    "papermill": {
     "duration": 0.017833,
     "end_time": "2022-03-18T20:54:31.093197",
     "exception": false,
     "start_time": "2022-03-18T20:54:31.075364",
     "status": "completed"
    },
    "tags": []
   },
   "source": [
    "# This is Mohamed Fawzy solving challenge 1 \n",
    "**Let us go through details**."
   ]
  },
  {
   "cell_type": "code",
   "execution_count": 2,
   "id": "16c1173b",
   "metadata": {
    "execution": {
     "iopub.execute_input": "2022-03-18T20:54:31.134798Z",
     "iopub.status.busy": "2022-03-18T20:54:31.133751Z",
     "iopub.status.idle": "2022-03-18T20:54:32.769737Z",
     "shell.execute_reply": "2022-03-18T20:54:32.769224Z",
     "shell.execute_reply.started": "2022-03-18T20:13:46.095210Z"
    },
    "papermill": {
     "duration": 1.658639,
     "end_time": "2022-03-18T20:54:32.769875",
     "exception": false,
     "start_time": "2022-03-18T20:54:31.111236",
     "status": "completed"
    },
    "tags": []
   },
   "outputs": [],
   "source": [
    "X_test = pd.read_csv(\"../input/ahcd1/csvTestImages 3360x1024.csv\")\n",
    "y_test = pd.read_csv(\"../input/ahcd1/csvTestLabel 3360x1.csv\")\n",
    "X_train = pd.read_csv(\"../input/ahcd1/csvTrainImages 13440x1024.csv\")\n",
    "y_train = pd.read_csv(\"../input/ahcd1/csvTrainLabel 13440x1.csv\")"
   ]
  },
  {
   "cell_type": "markdown",
   "id": "524f5c09",
   "metadata": {
    "papermill": {
     "duration": 0.017693,
     "end_time": "2022-03-18T20:54:32.806228",
     "exception": false,
     "start_time": "2022-03-18T20:54:32.788535",
     "status": "completed"
    },
    "tags": []
   },
   "source": [
    " # **Exploratory Data Analysis**"
   ]
  },
  {
   "cell_type": "code",
   "execution_count": 3,
   "id": "8c70ac0c",
   "metadata": {
    "execution": {
     "iopub.execute_input": "2022-03-18T20:54:32.849097Z",
     "iopub.status.busy": "2022-03-18T20:54:32.848241Z",
     "iopub.status.idle": "2022-03-18T20:54:32.873647Z",
     "shell.execute_reply": "2022-03-18T20:54:32.874240Z",
     "shell.execute_reply.started": "2022-03-18T20:13:48.214598Z"
    },
    "papermill": {
     "duration": 0.050255,
     "end_time": "2022-03-18T20:54:32.874381",
     "exception": false,
     "start_time": "2022-03-18T20:54:32.824126",
     "status": "completed"
    },
    "tags": []
   },
   "outputs": [
    {
     "name": "stdout",
     "output_type": "stream",
     "text": [
      "\n",
      " Training labels null check\n",
      "\n",
      "<class 'pandas.core.frame.DataFrame'>\n",
      "RangeIndex: 13439 entries, 0 to 13438\n",
      "Data columns (total 1 columns):\n",
      " #   Column  Non-Null Count  Dtype\n",
      "---  ------  --------------  -----\n",
      " 0   1       13439 non-null  int64\n",
      "dtypes: int64(1)\n",
      "memory usage: 105.1 KB\n",
      "\n",
      " ================================================== \n",
      "\n",
      " Test labels null check\n",
      "\n",
      "<class 'pandas.core.frame.DataFrame'>\n",
      "RangeIndex: 3359 entries, 0 to 3358\n",
      "Data columns (total 1 columns):\n",
      " #   Column  Non-Null Count  Dtype\n",
      "---  ------  --------------  -----\n",
      " 0   1       3359 non-null   int64\n",
      "dtypes: int64(1)\n",
      "memory usage: 26.4 KB\n"
     ]
    }
   ],
   "source": [
    "print(\"\\n Training labels null check\\n\")\n",
    "pd.DataFrame(y_train).info()\n",
    "print(\"\\n\",\"=\"*50, \"\\n\\n Test labels null check\\n\")\n",
    "y_test.info()"
   ]
  },
  {
   "cell_type": "code",
   "execution_count": 4,
   "id": "9a605a52",
   "metadata": {
    "execution": {
     "iopub.execute_input": "2022-03-18T20:54:32.916720Z",
     "iopub.status.busy": "2022-03-18T20:54:32.915633Z",
     "iopub.status.idle": "2022-03-18T20:54:33.282806Z",
     "shell.execute_reply": "2022-03-18T20:54:33.282313Z",
     "shell.execute_reply.started": "2022-03-18T20:13:48.248788Z"
    },
    "papermill": {
     "duration": 0.389471,
     "end_time": "2022-03-18T20:54:33.282941",
     "exception": false,
     "start_time": "2022-03-18T20:54:32.893470",
     "status": "completed"
    },
    "tags": []
   },
   "outputs": [
    {
     "name": "stderr",
     "output_type": "stream",
     "text": [
      "/opt/conda/lib/python3.7/site-packages/seaborn/_decorators.py:43: FutureWarning: Pass the following variable as a keyword arg: x. From version 0.12, the only valid positional argument will be `data`, and passing other arguments without an explicit keyword will result in an error or misinterpretation.\n",
      "  FutureWarning\n"
     ]
    },
    {
     "data": {
      "text/plain": [
       "1 \n",
       "15    480\n",
       "2     480\n",
       "27    480\n",
       "26    480\n",
       "25    480\n",
       "24    480\n",
       "23    480\n",
       "22    480\n",
       "21    480\n",
       "20    480\n",
       "19    480\n",
       "18    480\n",
       "17    480\n",
       "16    480\n",
       "28    480\n",
       "14    480\n",
       "13    480\n",
       "12    480\n",
       "11    480\n",
       "10    480\n",
       "9     480\n",
       "8     480\n",
       "7     480\n",
       "6     480\n",
       "5     480\n",
       "4     480\n",
       "3     480\n",
       "1     479\n",
       "dtype: int64"
      ]
     },
     "execution_count": 4,
     "metadata": {},
     "output_type": "execute_result"
    },
    {
     "data": {
      "image/png": "[encoded data removed]",
      "text/plain": [
       "<Figure size 432x288 with 1 Axes>"
      ]
     },
     "metadata": {
      "needs_background": "light"
     },
     "output_type": "display_data"
    }
   ],
   "source": [
    "g= sns.countplot(y_train['1'])\n",
    "y_train.value_counts()\n",
    "#I was making sure that there is no label domination in my dataset"
   ]
  },
  {
   "cell_type": "markdown",
   "id": "5421a1c8",
   "metadata": {
    "papermill": {
     "duration": 0.019909,
     "end_time": "2022-03-18T20:54:33.324823",
     "exception": false,
     "start_time": "2022-03-18T20:54:33.304914",
     "status": "completed"
    },
    "tags": []
   },
   "source": [
    "as we can see here labels are balanced."
   ]
  },
  {
   "cell_type": "markdown",
   "id": "2361c776",
   "metadata": {
    "papermill": {
     "duration": 0.019587,
     "end_time": "2022-03-18T20:54:33.364430",
     "exception": false,
     "start_time": "2022-03-18T20:54:33.344843",
     "status": "completed"
    },
    "tags": []
   },
   "source": [
    "**We'll use CNN model ... so we need to normalize data as it is single channel grayscale images **"
   ]
  },
  {
   "cell_type": "code",
   "execution_count": 5,
   "id": "a39fa73a",
   "metadata": {
    "execution": {
     "iopub.execute_input": "2022-03-18T20:54:33.417531Z",
     "iopub.status.busy": "2022-03-18T20:54:33.416530Z",
     "iopub.status.idle": "2022-03-18T20:54:33.463812Z",
     "shell.execute_reply": "2022-03-18T20:54:33.463009Z",
     "shell.execute_reply.started": "2022-03-18T20:13:48.595552Z"
    },
    "papermill": {
     "duration": 0.07828,
     "end_time": "2022-03-18T20:54:33.463965",
     "exception": false,
     "start_time": "2022-03-18T20:54:33.385685",
     "status": "completed"
    },
    "tags": []
   },
   "outputs": [],
   "source": [
    "X_train = X_train / 255.0\n",
    "X_test= X_test / 255.0"
   ]
  },
  {
   "cell_type": "markdown",
   "id": "f99a156f",
   "metadata": {
    "papermill": {
     "duration": 0.019988,
     "end_time": "2022-03-18T20:54:33.504002",
     "exception": false,
     "start_time": "2022-03-18T20:54:33.484014",
     "status": "completed"
    },
    "tags": []
   },
   "source": [
    "Here I'll reshape the data to 3D matrices to get the data ready for the model as I imported the data using Pandas dataframe"
   ]
  },
  {
   "cell_type": "code",
   "execution_count": 6,
   "id": "a08864d4",
   "metadata": {
    "execution": {
     "iopub.execute_input": "2022-03-18T20:54:33.550721Z",
     "iopub.status.busy": "2022-03-18T20:54:33.550004Z",
     "iopub.status.idle": "2022-03-18T20:54:33.553212Z",
     "shell.execute_reply": "2022-03-18T20:54:33.553691Z",
     "shell.execute_reply.started": "2022-03-18T20:13:48.637586Z"
    },
    "papermill": {
     "duration": 0.029562,
     "end_time": "2022-03-18T20:54:33.553822",
     "exception": false,
     "start_time": "2022-03-18T20:54:33.524260",
     "status": "completed"
    },
    "tags": []
   },
   "outputs": [
    {
     "name": "stdout",
     "output_type": "stream",
     "text": [
      "\n",
      "Done reshaping training data\n",
      "\n",
      "Done reshaping testing data\n"
     ]
    }
   ],
   "source": [
    "X_train = X_train.values.reshape(-1,32,32,1)\n",
    "print(\"\\nDone reshaping training data\")\n",
    "X_test = X_test.values.reshape(-1,32,32,1)\n",
    "print(\"\\nDone reshaping testing data\")"
   ]
  },
  {
   "cell_type": "code",
   "execution_count": 7,
   "id": "a615cee4",
   "metadata": {
    "execution": {
     "iopub.execute_input": "2022-03-18T20:54:33.599240Z",
     "iopub.status.busy": "2022-03-18T20:54:33.598431Z",
     "iopub.status.idle": "2022-03-18T20:54:33.601535Z",
     "shell.execute_reply": "2022-03-18T20:54:33.601930Z",
     "shell.execute_reply.started": "2022-03-18T20:13:48.645949Z"
    },
    "papermill": {
     "duration": 0.027551,
     "end_time": "2022-03-18T20:54:33.602062",
     "exception": false,
     "start_time": "2022-03-18T20:54:33.574511",
     "status": "completed"
    },
    "tags": []
   },
   "outputs": [],
   "source": [
    "#here I did one hot encoding to avoid priorities and ranking of the model as it is originally label encoded\n",
    "from keras.utils.np_utils import to_categorical\n",
    "y_train = to_categorical(y_train, num_classes = 29)\n",
    "y_test = to_categorical(y_test, num_classes = 29)"
   ]
  },
  {
   "cell_type": "code",
   "execution_count": 8,
   "id": "fbcaa48e",
   "metadata": {
    "execution": {
     "iopub.execute_input": "2022-03-18T20:54:33.647661Z",
     "iopub.status.busy": "2022-03-18T20:54:33.647046Z",
     "iopub.status.idle": "2022-03-18T20:54:33.650094Z",
     "shell.execute_reply": "2022-03-18T20:54:33.650674Z",
     "shell.execute_reply.started": "2022-03-18T20:13:48.659786Z"
    },
    "papermill": {
     "duration": 0.028574,
     "end_time": "2022-03-18T20:54:33.650837",
     "exception": false,
     "start_time": "2022-03-18T20:54:33.622263",
     "status": "completed"
    },
    "tags": []
   },
   "outputs": [
    {
     "name": "stdout",
     "output_type": "stream",
     "text": [
      "(13439, 32, 32, 1) (13439, 29)\n"
     ]
    }
   ],
   "source": [
    "print(X_train.shape, y_train.shape)"
   ]
  },
  {
   "cell_type": "markdown",
   "id": "365aa26a",
   "metadata": {
    "papermill": {
     "duration": 0.020156,
     "end_time": "2022-03-18T20:54:33.693147",
     "exception": false,
     "start_time": "2022-03-18T20:54:33.672991",
     "status": "completed"
    },
    "tags": []
   },
   "source": [
    "Here I built my CNN : I actually searched for what's the best cnn architecture for mnist online and here what came out : https://www.kaggle.com/cdeotte/how-to-choose-cnn-architecture-mnist/notebook\n",
    "There are experiments for every phase of convolution and choosing what's best."
   ]
  },
  {
   "cell_type": "code",
   "execution_count": 9,
   "id": "513a21fd",
   "metadata": {
    "execution": {
     "iopub.execute_input": "2022-03-18T20:54:33.739689Z",
     "iopub.status.busy": "2022-03-18T20:54:33.739004Z",
     "iopub.status.idle": "2022-03-18T20:54:36.149039Z",
     "shell.execute_reply": "2022-03-18T20:54:36.149749Z",
     "shell.execute_reply.started": "2022-03-18T20:13:48.671136Z"
    },
    "papermill": {
     "duration": 2.436432,
     "end_time": "2022-03-18T20:54:36.149947",
     "exception": false,
     "start_time": "2022-03-18T20:54:33.713515",
     "status": "completed"
    },
    "tags": []
   },
   "outputs": [
    {
     "name": "stderr",
     "output_type": "stream",
     "text": [
      "2022-03-18 20:54:33.809886: I tensorflow/stream_executor/cuda/cuda_gpu_executor.cc:937] successful NUMA node read from SysFS had negative value (-1), but there must be at least one NUMA node, so returning NUMA node zero\n",
      "2022-03-18 20:54:33.910927: I tensorflow/stream_executor/cuda/cuda_gpu_executor.cc:937] successful NUMA node read from SysFS had negative value (-1), but there must be at least one NUMA node, so returning NUMA node zero\n",
      "2022-03-18 20:54:33.911625: I tensorflow/stream_executor/cuda/cuda_gpu_executor.cc:937] successful NUMA node read from SysFS had negative value (-1), but there must be at least one NUMA node, so returning NUMA node zero\n",
      "2022-03-18 20:54:33.913371: I tensorflow/core/platform/cpu_feature_guard.cc:142] This TensorFlow binary is optimized with oneAPI Deep Neural Network Library (oneDNN) to use the following CPU instructions in performance-critical operations:  AVX2 AVX512F FMA\n",
      "To enable them in other operations, rebuild TensorFlow with the appropriate compiler flags.\n",
      "2022-03-18 20:54:33.914457: I tensorflow/stream_executor/cuda/cuda_gpu_executor.cc:937] successful NUMA node read from SysFS had negative value (-1), but there must be at least one NUMA node, so returning NUMA node zero\n",
      "2022-03-18 20:54:33.915525: I tensorflow/stream_executor/cuda/cuda_gpu_executor.cc:937] successful NUMA node read from SysFS had negative value (-1), but there must be at least one NUMA node, so returning NUMA node zero\n",
      "2022-03-18 20:54:33.916613: I tensorflow/stream_executor/cuda/cuda_gpu_executor.cc:937] successful NUMA node read from SysFS had negative value (-1), but there must be at least one NUMA node, so returning NUMA node zero\n",
      "2022-03-18 20:54:35.760319: I tensorflow/stream_executor/cuda/cuda_gpu_executor.cc:937] successful NUMA node read from SysFS had negative value (-1), but there must be at least one NUMA node, so returning NUMA node zero\n",
      "2022-03-18 20:54:35.761236: I tensorflow/stream_executor/cuda/cuda_gpu_executor.cc:937] successful NUMA node read from SysFS had negative value (-1), but there must be at least one NUMA node, so returning NUMA node zero\n",
      "2022-03-18 20:54:35.761915: I tensorflow/stream_executor/cuda/cuda_gpu_executor.cc:937] successful NUMA node read from SysFS had negative value (-1), but there must be at least one NUMA node, so returning NUMA node zero\n",
      "2022-03-18 20:54:35.762486: I tensorflow/core/common_runtime/gpu/gpu_device.cc:1510] Created device /job:localhost/replica:0/task:0/device:GPU:0 with 15403 MB memory:  -> device: 0, name: Tesla P100-PCIE-16GB, pci bus id: 0000:00:04.0, compute capability: 6.0\n"
     ]
    }
   ],
   "source": [
    "model = Sequential()\n",
    "model.add(Conv2D(24,kernel_size=5,activation='relu',input_shape=(32,32,1)))\n",
    "model.add(MaxPool2D())\n",
    "model.add(Conv2D(64,kernel_size=5,activation='relu'))\n",
    "model.add(MaxPool2D())\n",
    "model.add(Flatten())\n",
    "model.add(Dense(128, activation='relu'))\n",
    "model.add(Dropout(0.4))\n",
    "model.add(Dense(29, activation='softmax'))\n"
   ]
  },
  {
   "cell_type": "markdown",
   "id": "d8fcf1d8",
   "metadata": {
    "papermill": {
     "duration": 0.022414,
     "end_time": "2022-03-18T20:54:36.195627",
     "exception": false,
     "start_time": "2022-03-18T20:54:36.173213",
     "status": "completed"
    },
    "tags": []
   },
   "source": [
    "Adding a callback to stop the training wherever I want (It is used to stop training or act in a certain way when it detects a metric from logs) I can use it to avoid overfitting."
   ]
  },
  {
   "cell_type": "code",
   "execution_count": 10,
   "id": "2b8ba712",
   "metadata": {
    "execution": {
     "iopub.execute_input": "2022-03-18T20:54:36.244825Z",
     "iopub.status.busy": "2022-03-18T20:54:36.243910Z",
     "iopub.status.idle": "2022-03-18T20:54:36.565884Z",
     "shell.execute_reply": "2022-03-18T20:54:36.566352Z",
     "shell.execute_reply.started": "2022-03-18T20:13:48.830479Z"
    },
    "papermill": {
     "duration": 0.349237,
     "end_time": "2022-03-18T20:54:36.566552",
     "exception": false,
     "start_time": "2022-03-18T20:54:36.217315",
     "status": "completed"
    },
    "tags": []
   },
   "outputs": [],
   "source": [
    "class myCallback(tf.keras.callbacks.Callback):\n",
    "  def on_epoch_end(self, epoch, logs={}):\n",
    "    acc=logs.get('accuracy')\n",
    "\n",
    "    if(acc >  0.998):\n",
    "\n",
    "      print(\"\\n Acheived wanted accuracy:\",round(acc,3),\" Stopping the training \")\n",
    "      self.model.stop_training = True\n",
    "\n"
   ]
  },
  {
   "cell_type": "markdown",
   "id": "62419708",
   "metadata": {
    "papermill": {
     "duration": 0.022153,
     "end_time": "2022-03-18T20:54:36.612020",
     "exception": false,
     "start_time": "2022-03-18T20:54:36.589867",
     "status": "completed"
    },
    "tags": []
   },
   "source": [
    "Now let's choose an optimizer for our model.I chose Adam as it is a combination of 2 optimizers, AdaGrad and RMSProp algorithms to provide an optimization algorithm that can handle tricky gradients."
   ]
  },
  {
   "cell_type": "code",
   "execution_count": 11,
   "id": "5118a37e",
   "metadata": {
    "execution": {
     "iopub.execute_input": "2022-03-18T20:54:36.664405Z",
     "iopub.status.busy": "2022-03-18T20:54:36.657355Z",
     "iopub.status.idle": "2022-03-18T20:56:59.291062Z",
     "shell.execute_reply": "2022-03-18T20:56:59.290490Z",
     "shell.execute_reply.started": "2022-03-18T20:13:49.235396Z"
    },
    "papermill": {
     "duration": 142.657282,
     "end_time": "2022-03-18T20:56:59.291201",
     "exception": false,
     "start_time": "2022-03-18T20:54:36.633919",
     "status": "completed"
    },
    "tags": []
   },
   "outputs": [
    {
     "name": "stderr",
     "output_type": "stream",
     "text": [
      "2022-03-18 20:54:36.896781: I tensorflow/compiler/mlir/mlir_graph_optimization_pass.cc:185] None of the MLIR Optimization Passes are enabled (registered 2)\n"
     ]
    },
    {
     "name": "stdout",
     "output_type": "stream",
     "text": [
      "Epoch 1/80\n"
     ]
    },
    {
     "name": "stderr",
     "output_type": "stream",
     "text": [
      "2022-03-18 20:54:38.236317: I tensorflow/stream_executor/cuda/cuda_dnn.cc:369] Loaded cuDNN version 8005\n"
     ]
    },
    {
     "name": "stdout",
     "output_type": "stream",
     "text": [
      "420/420 [==============================] - 9s 4ms/step - loss: 1.9659 - accuracy: 0.3903 - val_loss: 0.8451 - val_accuracy: 0.7309\n",
      "Epoch 2/80\n",
      "420/420 [==============================] - 2s 4ms/step - loss: 0.9119 - accuracy: 0.6865 - val_loss: 0.5359 - val_accuracy: 0.8297\n",
      "Epoch 3/80\n",
      "420/420 [==============================] - 2s 4ms/step - loss: 0.6546 - accuracy: 0.7768 - val_loss: 0.4172 - val_accuracy: 0.8628\n",
      "Epoch 4/80\n",
      "420/420 [==============================] - 2s 4ms/step - loss: 0.5194 - accuracy: 0.8246 - val_loss: 0.3338 - val_accuracy: 0.8910\n",
      "Epoch 5/80\n",
      "420/420 [==============================] - 2s 5ms/step - loss: 0.4424 - accuracy: 0.8494 - val_loss: 0.3034 - val_accuracy: 0.8991\n",
      "Epoch 6/80\n",
      "420/420 [==============================] - 2s 4ms/step - loss: 0.3777 - accuracy: 0.8678 - val_loss: 0.2687 - val_accuracy: 0.9166\n",
      "Epoch 7/80\n",
      "420/420 [==============================] - 2s 4ms/step - loss: 0.3291 - accuracy: 0.8902 - val_loss: 0.2961 - val_accuracy: 0.9053\n",
      "Epoch 8/80\n",
      "420/420 [==============================] - 2s 4ms/step - loss: 0.2786 - accuracy: 0.9030 - val_loss: 0.2588 - val_accuracy: 0.9238\n",
      "Epoch 9/80\n",
      "420/420 [==============================] - 2s 4ms/step - loss: 0.2600 - accuracy: 0.9114 - val_loss: 0.2359 - val_accuracy: 0.9262\n",
      "Epoch 10/80\n",
      "420/420 [==============================] - 2s 4ms/step - loss: 0.2292 - accuracy: 0.9185 - val_loss: 0.2491 - val_accuracy: 0.9268\n",
      "Epoch 11/80\n",
      "420/420 [==============================] - 2s 4ms/step - loss: 0.2031 - accuracy: 0.9298 - val_loss: 0.2264 - val_accuracy: 0.9348\n",
      "Epoch 12/80\n",
      "420/420 [==============================] - 2s 4ms/step - loss: 0.1923 - accuracy: 0.9340 - val_loss: 0.2229 - val_accuracy: 0.9342\n",
      "Epoch 13/80\n",
      "420/420 [==============================] - 2s 4ms/step - loss: 0.1661 - accuracy: 0.9412 - val_loss: 0.2347 - val_accuracy: 0.9351\n",
      "Epoch 14/80\n",
      "420/420 [==============================] - 2s 4ms/step - loss: 0.1597 - accuracy: 0.9437 - val_loss: 0.2394 - val_accuracy: 0.9294\n",
      "Epoch 15/80\n",
      "420/420 [==============================] - 2s 4ms/step - loss: 0.1499 - accuracy: 0.9481 - val_loss: 0.2108 - val_accuracy: 0.9393\n",
      "Epoch 16/80\n",
      "420/420 [==============================] - 2s 4ms/step - loss: 0.1319 - accuracy: 0.9542 - val_loss: 0.2221 - val_accuracy: 0.9351\n",
      "Epoch 17/80\n",
      "420/420 [==============================] - 2s 4ms/step - loss: 0.1232 - accuracy: 0.9584 - val_loss: 0.2043 - val_accuracy: 0.9449\n",
      "Epoch 18/80\n",
      "420/420 [==============================] - 2s 4ms/step - loss: 0.1266 - accuracy: 0.9572 - val_loss: 0.2126 - val_accuracy: 0.9428\n",
      "Epoch 19/80\n",
      "420/420 [==============================] - 2s 4ms/step - loss: 0.0972 - accuracy: 0.9650 - val_loss: 0.2337 - val_accuracy: 0.9416\n",
      "Epoch 20/80\n",
      "420/420 [==============================] - 2s 4ms/step - loss: 0.1116 - accuracy: 0.9604 - val_loss: 0.2171 - val_accuracy: 0.9446\n",
      "Epoch 21/80\n",
      "420/420 [==============================] - 2s 4ms/step - loss: 0.1024 - accuracy: 0.9636 - val_loss: 0.2295 - val_accuracy: 0.9485\n",
      "Epoch 22/80\n",
      "420/420 [==============================] - 2s 4ms/step - loss: 0.0959 - accuracy: 0.9661 - val_loss: 0.2340 - val_accuracy: 0.9452\n",
      "Epoch 23/80\n",
      "420/420 [==============================] - 2s 5ms/step - loss: 0.0916 - accuracy: 0.9681 - val_loss: 0.2217 - val_accuracy: 0.9488\n",
      "Epoch 24/80\n",
      "420/420 [==============================] - 2s 5ms/step - loss: 0.0825 - accuracy: 0.9724 - val_loss: 0.2537 - val_accuracy: 0.9449\n",
      "Epoch 25/80\n",
      "420/420 [==============================] - 2s 4ms/step - loss: 0.0884 - accuracy: 0.9692 - val_loss: 0.2347 - val_accuracy: 0.9458\n",
      "Epoch 26/80\n",
      "420/420 [==============================] - 2s 4ms/step - loss: 0.0825 - accuracy: 0.9692 - val_loss: 0.2343 - val_accuracy: 0.9512\n",
      "Epoch 27/80\n",
      "420/420 [==============================] - 2s 4ms/step - loss: 0.0862 - accuracy: 0.9695 - val_loss: 0.2271 - val_accuracy: 0.9491\n",
      "Epoch 28/80\n",
      "420/420 [==============================] - 2s 4ms/step - loss: 0.0714 - accuracy: 0.9739 - val_loss: 0.2449 - val_accuracy: 0.9488\n",
      "Epoch 29/80\n",
      "420/420 [==============================] - 2s 4ms/step - loss: 0.0718 - accuracy: 0.9734 - val_loss: 0.2322 - val_accuracy: 0.9521\n",
      "Epoch 30/80\n",
      "420/420 [==============================] - 2s 4ms/step - loss: 0.0705 - accuracy: 0.9741 - val_loss: 0.2426 - val_accuracy: 0.9461\n",
      "Epoch 31/80\n",
      "420/420 [==============================] - 2s 4ms/step - loss: 0.0679 - accuracy: 0.9764 - val_loss: 0.2596 - val_accuracy: 0.9509\n",
      "Epoch 32/80\n",
      "420/420 [==============================] - 2s 4ms/step - loss: 0.0643 - accuracy: 0.9778 - val_loss: 0.2791 - val_accuracy: 0.9458\n",
      "Epoch 33/80\n",
      "420/420 [==============================] - 2s 4ms/step - loss: 0.0571 - accuracy: 0.9798 - val_loss: 0.2309 - val_accuracy: 0.9524\n",
      "Epoch 34/80\n",
      "420/420 [==============================] - 2s 4ms/step - loss: 0.0615 - accuracy: 0.9790 - val_loss: 0.2624 - val_accuracy: 0.9497\n",
      "Epoch 35/80\n",
      "420/420 [==============================] - 2s 4ms/step - loss: 0.0597 - accuracy: 0.9789 - val_loss: 0.2454 - val_accuracy: 0.9518\n",
      "Epoch 36/80\n",
      "420/420 [==============================] - 2s 4ms/step - loss: 0.0635 - accuracy: 0.9787 - val_loss: 0.2446 - val_accuracy: 0.9506\n",
      "Epoch 37/80\n",
      "420/420 [==============================] - 2s 4ms/step - loss: 0.0591 - accuracy: 0.9788 - val_loss: 0.2421 - val_accuracy: 0.9530\n",
      "Epoch 38/80\n",
      "420/420 [==============================] - 2s 4ms/step - loss: 0.0536 - accuracy: 0.9815 - val_loss: 0.2484 - val_accuracy: 0.9553\n",
      "Epoch 39/80\n",
      "420/420 [==============================] - 2s 4ms/step - loss: 0.0591 - accuracy: 0.9795 - val_loss: 0.2595 - val_accuracy: 0.9527\n",
      "Epoch 40/80\n",
      "420/420 [==============================] - 2s 4ms/step - loss: 0.0527 - accuracy: 0.9815 - val_loss: 0.2463 - val_accuracy: 0.9527\n",
      "Epoch 41/80\n",
      "420/420 [==============================] - 2s 4ms/step - loss: 0.0531 - accuracy: 0.9810 - val_loss: 0.2458 - val_accuracy: 0.9539\n",
      "Epoch 42/80\n",
      "420/420 [==============================] - 2s 4ms/step - loss: 0.0518 - accuracy: 0.9804 - val_loss: 0.2501 - val_accuracy: 0.9509\n",
      "Epoch 43/80\n",
      "420/420 [==============================] - 2s 5ms/step - loss: 0.0522 - accuracy: 0.9827 - val_loss: 0.2744 - val_accuracy: 0.9550\n",
      "Epoch 44/80\n",
      "420/420 [==============================] - 2s 4ms/step - loss: 0.0487 - accuracy: 0.9832 - val_loss: 0.2735 - val_accuracy: 0.9533\n",
      "Epoch 45/80\n",
      "420/420 [==============================] - 2s 4ms/step - loss: 0.0424 - accuracy: 0.9856 - val_loss: 0.2828 - val_accuracy: 0.9470\n",
      "Epoch 46/80\n",
      "420/420 [==============================] - 2s 4ms/step - loss: 0.0420 - accuracy: 0.9859 - val_loss: 0.2861 - val_accuracy: 0.9458\n",
      "Epoch 47/80\n",
      "420/420 [==============================] - 2s 4ms/step - loss: 0.0451 - accuracy: 0.9850 - val_loss: 0.2735 - val_accuracy: 0.9515\n",
      "Epoch 48/80\n",
      "420/420 [==============================] - 2s 4ms/step - loss: 0.0416 - accuracy: 0.9850 - val_loss: 0.2801 - val_accuracy: 0.9518\n",
      "Epoch 49/80\n",
      "420/420 [==============================] - 2s 4ms/step - loss: 0.0438 - accuracy: 0.9847 - val_loss: 0.2860 - val_accuracy: 0.9509\n",
      "Epoch 50/80\n",
      "420/420 [==============================] - 2s 4ms/step - loss: 0.0419 - accuracy: 0.9856 - val_loss: 0.2645 - val_accuracy: 0.9524\n",
      "Epoch 51/80\n",
      "420/420 [==============================] - 2s 5ms/step - loss: 0.0400 - accuracy: 0.9868 - val_loss: 0.4161 - val_accuracy: 0.9354\n",
      "Epoch 52/80\n",
      "420/420 [==============================] - 2s 4ms/step - loss: 0.0401 - accuracy: 0.9867 - val_loss: 0.2620 - val_accuracy: 0.9547\n",
      "Epoch 53/80\n",
      "420/420 [==============================] - 2s 4ms/step - loss: 0.0404 - accuracy: 0.9856 - val_loss: 0.2921 - val_accuracy: 0.9547\n",
      "Epoch 54/80\n",
      "420/420 [==============================] - 2s 4ms/step - loss: 0.0313 - accuracy: 0.9895 - val_loss: 0.3399 - val_accuracy: 0.9473\n",
      "Epoch 55/80\n",
      "420/420 [==============================] - 2s 4ms/step - loss: 0.0383 - accuracy: 0.9853 - val_loss: 0.3232 - val_accuracy: 0.9500\n",
      "Epoch 56/80\n",
      "420/420 [==============================] - 2s 4ms/step - loss: 0.0363 - accuracy: 0.9874 - val_loss: 0.3246 - val_accuracy: 0.9503\n",
      "Epoch 57/80\n",
      "420/420 [==============================] - 2s 4ms/step - loss: 0.0345 - accuracy: 0.9874 - val_loss: 0.2935 - val_accuracy: 0.9542\n",
      "Epoch 58/80\n",
      "420/420 [==============================] - 2s 4ms/step - loss: 0.0414 - accuracy: 0.9862 - val_loss: 0.2887 - val_accuracy: 0.9533\n",
      "Epoch 59/80\n",
      "420/420 [==============================] - 2s 4ms/step - loss: 0.0310 - accuracy: 0.9891 - val_loss: 0.3068 - val_accuracy: 0.9547\n",
      "Epoch 60/80\n",
      "420/420 [==============================] - 2s 4ms/step - loss: 0.0363 - accuracy: 0.9872 - val_loss: 0.2822 - val_accuracy: 0.9556\n",
      "Epoch 61/80\n",
      "420/420 [==============================] - 2s 4ms/step - loss: 0.0380 - accuracy: 0.9877 - val_loss: 0.2950 - val_accuracy: 0.9506\n",
      "Epoch 62/80\n",
      "420/420 [==============================] - 2s 4ms/step - loss: 0.0368 - accuracy: 0.9864 - val_loss: 0.3315 - val_accuracy: 0.9491\n",
      "Epoch 63/80\n",
      "420/420 [==============================] - 2s 6ms/step - loss: 0.0324 - accuracy: 0.9893 - val_loss: 0.3052 - val_accuracy: 0.9565\n",
      "Epoch 64/80\n",
      "420/420 [==============================] - 2s 4ms/step - loss: 0.0321 - accuracy: 0.9883 - val_loss: 0.3587 - val_accuracy: 0.9482\n",
      "Epoch 65/80\n",
      "420/420 [==============================] - 2s 4ms/step - loss: 0.0410 - accuracy: 0.9861 - val_loss: 0.3235 - val_accuracy: 0.9470\n",
      "Epoch 66/80\n",
      "420/420 [==============================] - 2s 4ms/step - loss: 0.0312 - accuracy: 0.9889 - val_loss: 0.3369 - val_accuracy: 0.9500\n",
      "Epoch 67/80\n",
      "420/420 [==============================] - 2s 4ms/step - loss: 0.0362 - accuracy: 0.9882 - val_loss: 0.3358 - val_accuracy: 0.9521\n",
      "Epoch 68/80\n",
      "420/420 [==============================] - 2s 4ms/step - loss: 0.0396 - accuracy: 0.9876 - val_loss: 0.2905 - val_accuracy: 0.9536\n",
      "Epoch 69/80\n",
      "420/420 [==============================] - 2s 4ms/step - loss: 0.0227 - accuracy: 0.9923 - val_loss: 0.3346 - val_accuracy: 0.9518\n",
      "Epoch 70/80\n",
      "420/420 [==============================] - 2s 4ms/step - loss: 0.0343 - accuracy: 0.9893 - val_loss: 0.3427 - val_accuracy: 0.9515\n",
      "Epoch 71/80\n",
      "420/420 [==============================] - 2s 4ms/step - loss: 0.0310 - accuracy: 0.9887 - val_loss: 0.3341 - val_accuracy: 0.9512\n",
      "Epoch 72/80\n",
      "420/420 [==============================] - 2s 4ms/step - loss: 0.0349 - accuracy: 0.9886 - val_loss: 0.3155 - val_accuracy: 0.9503\n",
      "Epoch 73/80\n",
      "420/420 [==============================] - 2s 4ms/step - loss: 0.0318 - accuracy: 0.9884 - val_loss: 0.3300 - val_accuracy: 0.9547\n",
      "Epoch 74/80\n",
      "420/420 [==============================] - 2s 4ms/step - loss: 0.0278 - accuracy: 0.9899 - val_loss: 0.3369 - val_accuracy: 0.9512\n",
      "Epoch 75/80\n",
      "420/420 [==============================] - 2s 4ms/step - loss: 0.0271 - accuracy: 0.9904 - val_loss: 0.3353 - val_accuracy: 0.9515\n",
      "Epoch 76/80\n",
      "420/420 [==============================] - 2s 4ms/step - loss: 0.0305 - accuracy: 0.9887 - val_loss: 0.2924 - val_accuracy: 0.9577\n",
      "Epoch 77/80\n",
      "420/420 [==============================] - 2s 4ms/step - loss: 0.0265 - accuracy: 0.9911 - val_loss: 0.3348 - val_accuracy: 0.9559\n",
      "Epoch 78/80\n",
      "420/420 [==============================] - 2s 4ms/step - loss: 0.0293 - accuracy: 0.9903 - val_loss: 0.3706 - val_accuracy: 0.9503\n",
      "Epoch 79/80\n",
      "420/420 [==============================] - 2s 4ms/step - loss: 0.0281 - accuracy: 0.9900 - val_loss: 0.3015 - val_accuracy: 0.9565\n",
      "Epoch 80/80\n",
      "420/420 [==============================] - 2s 4ms/step - loss: 0.0297 - accuracy: 0.9896 - val_loss: 0.3552 - val_accuracy: 0.9547\n"
     ]
    }
   ],
   "source": [
    "model.compile(optimizer = tf.optimizers.Adam(),\n",
    "              loss = 'categorical_crossentropy',\n",
    "              metrics=['accuracy'])\n",
    "\n",
    "hist = model.fit(X_train, y_train, epochs=80,callbacks=myCallback(), validation_data=(X_test, y_test), shuffle=True)"
   ]
  },
  {
   "cell_type": "code",
   "execution_count": 12,
   "id": "a4d0caa7",
   "metadata": {
    "execution": {
     "iopub.execute_input": "2022-03-18T20:57:01.610413Z",
     "iopub.status.busy": "2022-03-18T20:57:01.609643Z",
     "iopub.status.idle": "2022-03-18T20:57:01.986221Z",
     "shell.execute_reply": "2022-03-18T20:57:01.985612Z",
     "shell.execute_reply.started": "2022-03-18T20:25:25.608901Z"
    },
    "papermill": {
     "duration": 1.707585,
     "end_time": "2022-03-18T20:57:01.986364",
     "exception": false,
     "start_time": "2022-03-18T20:57:00.278779",
     "status": "completed"
    },
    "tags": []
   },
   "outputs": [
    {
     "name": "stdout",
     "output_type": "stream",
     "text": [
      "105/105 [==============================] - 0s 2ms/step - loss: 0.3552 - accuracy: 0.9547\n"
     ]
    },
    {
     "data": {
      "text/plain": [
       "[0.3551535904407501, 0.9547484517097473]"
      ]
     },
     "execution_count": 12,
     "metadata": {},
     "output_type": "execute_result"
    }
   ],
   "source": [
    "model.evaluate(X_test, y_test)"
   ]
  },
  {
   "cell_type": "markdown",
   "id": "72733c72",
   "metadata": {
    "papermill": {
     "duration": 0.746481,
     "end_time": "2022-03-18T20:57:03.497657",
     "exception": false,
     "start_time": "2022-03-18T20:57:02.751176",
     "status": "completed"
    },
    "tags": []
   },
   "source": [
    "I never tried over 100 epochs for real..."
   ]
  },
  {
   "cell_type": "code",
   "execution_count": 13,
   "id": "8e2a3061",
   "metadata": {
    "execution": {
     "iopub.execute_input": "2022-03-18T20:57:05.042815Z",
     "iopub.status.busy": "2022-03-18T20:57:05.041012Z",
     "iopub.status.idle": "2022-03-18T20:57:05.217249Z",
     "shell.execute_reply": "2022-03-18T20:57:05.217672Z",
     "shell.execute_reply.started": "2022-03-18T20:25:26.229356Z"
    },
    "papermill": {
     "duration": 0.970184,
     "end_time": "2022-03-18T20:57:05.217829",
     "exception": false,
     "start_time": "2022-03-18T20:57:04.247645",
     "status": "completed"
    },
    "tags": []
   },
   "outputs": [
    {
     "data": {
      "image/png": "[encoded data removed]",
      "text/plain": [
       "<Figure size 432x288 with 1 Axes>"
      ]
     },
     "metadata": {
      "needs_background": "light"
     },
     "output_type": "display_data"
    }
   ],
   "source": [
    "plt.plot(hist.history['accuracy'])\n",
    "plt.plot(hist.history['val_accuracy'])\n",
    "plt.title('model accuracy')\n",
    "plt.ylabel('accuracy')\n",
    "plt.xlabel('epoch')\n",
    "plt.legend(['train', 'val'], loc='upper left')\n",
    "plt.show()"
   ]
  },
  {
   "cell_type": "code",
   "execution_count": 14,
   "id": "04288acd",
   "metadata": {
    "execution": {
     "iopub.execute_input": "2022-03-18T20:57:06.755715Z",
     "iopub.status.busy": "2022-03-18T20:57:06.754950Z",
     "iopub.status.idle": "2022-03-18T20:57:07.192958Z",
     "shell.execute_reply": "2022-03-18T20:57:07.192482Z",
     "shell.execute_reply.started": "2022-03-18T20:25:26.431608Z"
    },
    "papermill": {
     "duration": 1.226233,
     "end_time": "2022-03-18T20:57:07.193085",
     "exception": false,
     "start_time": "2022-03-18T20:57:05.966852",
     "status": "completed"
    },
    "tags": []
   },
   "outputs": [
    {
     "name": "stdout",
     "output_type": "stream",
     "text": [
      "[0. 0. 0. 0. 0. 0. 0. 0. 0. 0. 0. 0. 0. 0. 0. 1. 0. 0. 0. 0. 0. 0. 0. 0.\n",
      " 0. 0. 0. 0. 0.]\n"
     ]
    },
    {
     "data": {
      "image/png": "[encoded data removed]",
      "text/plain": [
       "<Figure size 432x288 with 1 Axes>"
      ]
     },
     "metadata": {
      "needs_background": "light"
     },
     "output_type": "display_data"
    }
   ],
   "source": [
    "index = randint(0,3359)\n",
    "classifications = model.predict(X_test)\n",
    "plt.imshow(X_test[index])\n",
    "print(y_test[index])"
   ]
  },
  {
   "cell_type": "code",
   "execution_count": 15,
   "id": "6156ba2b",
   "metadata": {
    "execution": {
     "iopub.execute_input": "2022-03-18T20:57:08.749057Z",
     "iopub.status.busy": "2022-03-18T20:57:08.748167Z",
     "iopub.status.idle": "2022-03-18T20:57:09.995283Z",
     "shell.execute_reply": "2022-03-18T20:57:09.994796Z",
     "shell.execute_reply.started": "2022-03-18T20:35:55.454678Z"
    },
    "papermill": {
     "duration": 2.003395,
     "end_time": "2022-03-18T20:57:09.995413",
     "exception": false,
     "start_time": "2022-03-18T20:57:07.992018",
     "status": "completed"
    },
    "tags": []
   },
   "outputs": [
    {
     "name": "stderr",
     "output_type": "stream",
     "text": [
      "2022-03-18 20:57:09.263538: W tensorflow/python/util/util.cc:348] Sets are not currently considered sequences, but this may change in the future, so consider avoiding using them.\n"
     ]
    }
   ],
   "source": [
    "model.save(\"HACR\")"
   ]
  }
 ],
 "metadata": {
  "kernelspec": {
   "display_name": "Python 3",
   "language": "python",
   "name": "python3"
  },
  "language_info": {
   "codemirror_mode": {
    "name": "ipython",
    "version": 3
   },
   "file_extension": ".py",
   "mimetype": "text/x-python",
   "name": "python",
   "nbconvert_exporter": "python",
   "pygments_lexer": "ipython3",
   "version": "3.7.12"
  },
  "papermill": {
   "default_parameters": {},
   "duration": 176.66664,
   "end_time": "2022-03-18T20:57:13.627761",
   "environment_variables": {},
   "exception": null,
   "input_path": "__notebook__.ipynb",
   "output_path": "__notebook__.ipynb",
   "parameters": {},
   "start_time": "2022-03-18T20:54:16.961121",
   "version": "2.3.3"
  }
 },
 "nbformat": 4,
 "nbformat_minor": 5
}
